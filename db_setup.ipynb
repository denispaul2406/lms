{
 "cells": [
  {
   "cell_type": "code",
   "execution_count": null,
   "metadata": {},
   "outputs": [],
   "source": [
    "import sqlite3\n",
    "import csv\n",
    "\n",
    "# Connect to SQLite database\n",
    "conn = sqlite3.connect('library11.db')\n",
    "cursor = conn.cursor()\n",
    "\n",
    "# Function to insert data into Books table\n",
    "def insert_books_data(row):\n",
    "    cursor.execute('''\n",
    "            INSERT INTO Books (BK_ID, BK_NAME, AUTHOR_NAME, Edition, Date_Year, Publisher, Place, ISBN, Price, Pages, Category, Department, Subject) VALUES (?, ?, ?, ?, ?, ?, ?, ?, ?, ?, ?, ?, ?)\n",
    "    ''', (row['Access_No'], row['Title'], row['Authors'], row['Edition'], row['Date_Year'],\n",
    "          row['Publisher'], row['Place'], row['ISBN'], row['Price'], row['Pages'],row['Category'],row['Department'],row['Subject']))\n",
    "\n",
    "# Function to insert data into BookDetails table\n",
    "def insert_book_details_data(row):\n",
    "    cursor.execute('''\n",
    "        INSERT INTO BookDetails (Asset_Code, Call_No, BK_ID)\n",
    "        VALUES (?, ?, ?)\n",
    "    ''', (row['Asset_Code'], row['Call_No'], row['Access_No']))\n",
    "\n",
    "\n",
    "# Function to insert data into BookInventory table\n",
    "def insert_book_inventory_data(row):\n",
    "    cursor.execute('''\n",
    "        INSERT INTO BookInventory (BK_ID, Number_of_Copies)\n",
    "        VALUES (?, ?)\n",
    "    ''', (row['Access_No'], row['copies']))\n",
    "\n",
    "\n",
    "# Function to insert data into Transactions table\n",
    "def insert_transactions_data(row):\n",
    "    cursor.execute('''\n",
    "        INSERT INTO Transactions (BK_ID, Bill_Date, Vendor)\n",
    "        VALUES (?, ?, ?)\n",
    "    ''', (row['Access_No'], row['Bill_Date'], row['Vendor']))\n",
    "\n",
    "# Function to handle the CSV data insertion into respective tables\n",
    "def process_csv_data():\n",
    "    with open('C:/Users/Hunny/Downloads/updated_file.csv', newline='', encoding='latin-1') as csvfile:\n",
    "        reader = csv.DictReader(csvfile)\n",
    "        for row in reader:\n",
    "            # Insert data into respective tables\n",
    "            insert_books_data(row)\n",
    "            insert_book_details_data(row)\n",
    "            insert_book_inventory_data(row)\n",
    "            insert_transactions_data(row)\n",
    "            # Add other table insertions if necessary\n",
    "\n",
    "    conn.commit()\n",
    "    print(\"Data inserted successfully.\")\n",
    "\n",
    "# Call the function to insert data from CSV into respective tables\n",
    "process_csv_data()\n",
    "\n",
    "# Close connection\n",
    "conn.close()\n"
   ]
  },
  {
   "cell_type": "code",
   "execution_count": 81,
   "metadata": {},
   "outputs": [
    {
     "name": "stdout",
     "output_type": "stream",
     "text": [
      "<sqlite3.Cursor object at 0x000001E15558FA40>\n"
     ]
    }
   ],
   "source": [
    "a =cursor.execute('PRAGMA table_info(BookDetails);')\n",
    "print(a)"
   ]
  },
  {
   "cell_type": "code",
   "execution_count": 1,
   "metadata": {},
   "outputs": [
    {
     "name": "stdout",
     "output_type": "stream",
     "text": [
      "Tables created successfully.\n"
     ]
    }
   ],
   "source": [
    "import sqlite3\n",
    "\n",
    "# Connect to SQLite database (create if not exists)\n",
    "conn = sqlite3.connect('library11.db')\n",
    "cursor = conn.cursor()\n",
    "\n",
    "# Drop existing tables if they exist\n",
    "cursor.execute(\"DROP TABLE IF EXISTS BookInventory\")\n",
    "cursor.execute(\"DROP TABLE IF EXISTS Transactions\")\n",
    "cursor.execute(\"DROP TABLE IF EXISTS BookDetails\")\n",
    "cursor.execute(\"DROP TABLE IF EXISTS Books\")\n",
    "\n",
    "# Create Books table with merged fields for category, department, and subject\n",
    "cursor.execute('''\n",
    "    CREATE TABLE IF NOT EXISTS Books (\n",
    "        BK_ID TEXT PRIMARY KEY NOT NULL,\n",
    "        BK_NAME TEXT,\n",
    "        AUTHOR_NAME TEXT,\n",
    "        Edition TEXT,\n",
    "        Date_Year TEXT,\n",
    "        Publisher TEXT,\n",
    "        Place TEXT,\n",
    "        ISBN TEXT,\n",
    "        Price TEXT,\n",
    "        Pages TEXT,\n",
    "        Category TEXT,\n",
    "        Department TEXT,\n",
    "        Subject TEXT\n",
    "    )\n",
    "''')\n",
    "\n",
    "# Create BookInventory table\n",
    "cursor.execute('''\n",
    "    CREATE TABLE IF NOT EXISTS BookInventory (\n",
    "        BK_ID TEXT PRIMARY KEY NOT NULL,\n",
    "        Number_of_Copies INTEGER,\n",
    "        FOREIGN KEY (BK_ID) REFERENCES Books(BK_ID)\n",
    "    )\n",
    "''')\n",
    "\n",
    "# Create BookDetails table\n",
    "cursor.execute('''\n",
    "    CREATE TABLE IF NOT EXISTS BookDetails (\n",
    "        Asset_Code TEXT,\n",
    "        Call_No TEXT,\n",
    "        BK_ID TEXT NOT NULL,\n",
    "        BK_STATUS TEXT,\n",
    "        FOREIGN KEY (BK_ID) REFERENCES Books(BK_ID)\n",
    "    )\n",
    "''')\n",
    "\n",
    "# Create Transactions table\n",
    "cursor.execute('''\n",
    "    CREATE TABLE IF NOT EXISTS Transactions (\n",
    "        Transaction_ID INTEGER PRIMARY KEY AUTOINCREMENT,\n",
    "        BK_ID TEXT,\n",
    "        CARD_ID TEXT,\n",
    "        Bill_Date TEXT,\n",
    "        Vendor TEXT,\n",
    "        FOREIGN KEY (BK_ID) REFERENCES Books(BK_ID)\n",
    "    )\n",
    "''')\n",
    "\n",
    "\n",
    "# Create VIEW Library\n",
    "cursor.execute('''\n",
    "    CREATE VIEW IF NOT EXISTS Library AS\n",
    "    SELECT\n",
    "        Books.BK_NAME AS book_name,\n",
    "        Books.BK_ID AS book_id,\n",
    "        Books.AUTHOR_NAME AS author_name,\n",
    "        BookDetails.BK_STATUS AS book_status,\n",
    "        Transactions.CARD_ID AS card_id,\n",
    "        Books.Category AS category,\n",
    "        BookDetails.Asset_Code AS asset_code,\n",
    "        Books.Department AS department,\n",
    "        Books.Subject AS subject,\n",
    "        Books.Edition AS edition,\n",
    "        Books.Date_Year AS date_year,\n",
    "        BookDetails.Call_No AS call_no, \n",
    "        Books.Publisher AS publisher,\n",
    "        Books.Place AS place,\n",
    "        Books.ISBN AS isbn,\n",
    "        Books.Price AS price,\n",
    "        Transactions.Bill_Date AS bill_date,\n",
    "        Transactions.Vendor AS vendor,\n",
    "        Books.Pages AS pages,\n",
    "        BookInventory.Number_of_Copies AS num_copies\n",
    "    FROM\n",
    "        Books\n",
    "    LEFT JOIN BookDetails ON Books.BK_ID = BookDetails.BK_ID\n",
    "    LEFT JOIN Transactions ON Books.BK_ID = Transactions.BK_ID\n",
    "    LEFT JOIN BookInventory ON Books.BK_ID = BookInventory.BK_ID\n",
    "''')\n",
    "\n",
    "print(\"Tables created successfully.\")\n",
    "conn.commit()\n",
    "conn.close()\n"
   ]
  },
  {
   "cell_type": "code",
   "execution_count": 1,
   "metadata": {},
   "outputs": [],
   "source": [
    "import sqlite3 as lite\n",
    "import pandas as pd"
   ]
  },
  {
   "cell_type": "code",
   "execution_count": 2,
   "metadata": {},
   "outputs": [],
   "source": [
    "con = lite.connect('library11.db')"
   ]
  },
  {
   "cell_type": "code",
   "execution_count": 4,
   "metadata": {},
   "outputs": [
    {
     "data": {
      "text/plain": [
       "<sqlite3.Cursor at 0x1bd60d393c0>"
      ]
     },
     "execution_count": 4,
     "metadata": {},
     "output_type": "execute_result"
    }
   ],
   "source": [
    "con.execute(\"UPDATE BookInventory SET Number_of_Copies = 1 WHERE Number_of_Copies IS NULL OR Number_of_Copies NOT BETWEEN 2 AND 100;\")"
   ]
  },
  {
   "cell_type": "code",
   "execution_count": 12,
   "metadata": {},
   "outputs": [
    {
     "data": {
      "text/plain": [
       "<sqlite3.Cursor at 0x1bd6232b0c0>"
      ]
     },
     "execution_count": 12,
     "metadata": {},
     "output_type": "execute_result"
    }
   ],
   "source": [
    "con.execute(\"\"\"CREATE TRIGGER prevent_negative_copies\n",
    "BEFORE UPDATE ON BookInventory\n",
    "FOR EACH ROW\n",
    "WHEN NEW.Number_of_Copies < 0\n",
    "BEGIN\n",
    "    SELECT RAISE(ABORT, 'Cannot set Number_of_Copies below 0');\n",
    "END;\n",
    "\"\"\")"
   ]
  },
  {
   "cell_type": "code",
   "execution_count": 4,
   "metadata": {},
   "outputs": [
    {
     "data": {
      "text/plain": [
       "<sqlite3.Cursor at 0x23bd98949c0>"
      ]
     },
     "execution_count": 4,
     "metadata": {},
     "output_type": "execute_result"
    }
   ],
   "source": [
    "#for issueing\n",
    "con.execute(\"\"\" \n",
    "            CREATE TRIGGER update_copies_on_issue\n",
    "AFTER UPDATE ON Transactions\n",
    "FOR EACH ROW\n",
    "WHEN NEW.CARD_ID <> 'N/A' AND OLD.CARD_ID = 'N/A'\n",
    "BEGIN\n",
    "    UPDATE BookInventory\n",
    "    SET Number_of_Copies = Number_of_Copies - 1\n",
    "    WHERE BK_ID = NEW.BK_ID;\n",
    "END;\n",
    "\"\"\")"
   ]
  },
  {
   "cell_type": "code",
   "execution_count": 5,
   "metadata": {},
   "outputs": [
    {
     "data": {
      "text/plain": [
       "<sqlite3.Cursor at 0x23bd9894540>"
      ]
     },
     "execution_count": 5,
     "metadata": {},
     "output_type": "execute_result"
    }
   ],
   "source": [
    "#for returning\n",
    "con.execute(\"\"\" \n",
    "CREATE TRIGGER update_copies_on_return\n",
    "AFTER UPDATE ON Transactions\n",
    "FOR EACH ROW\n",
    "WHEN NEW.CARD_ID = 'N/A' AND OLD.CARD_ID <> 'N/A'\n",
    "BEGIN\n",
    "    UPDATE BookInventory\n",
    "    SET Number_of_Copies = Number_of_Copies + 1\n",
    "    WHERE BK_ID = NEW.BK_ID;\n",
    "END;            \n",
    "\"\"\")"
   ]
  },
  {
   "cell_type": "code",
   "execution_count": 5,
   "metadata": {},
   "outputs": [],
   "source": [
    "con.commit()"
   ]
  },
  {
   "cell_type": "code",
   "execution_count": 5,
   "metadata": {},
   "outputs": [
    {
     "data": {
      "text/html": [
       "<div>\n",
       "<style scoped>\n",
       "    .dataframe tbody tr th:only-of-type {\n",
       "        vertical-align: middle;\n",
       "    }\n",
       "\n",
       "    .dataframe tbody tr th {\n",
       "        vertical-align: top;\n",
       "    }\n",
       "\n",
       "    .dataframe thead th {\n",
       "        text-align: right;\n",
       "    }\n",
       "</style>\n",
       "<table border=\"1\" class=\"dataframe\">\n",
       "  <thead>\n",
       "    <tr style=\"text-align: right;\">\n",
       "      <th></th>\n",
       "      <th>BK_ID</th>\n",
       "      <th>Number_of_Copies</th>\n",
       "    </tr>\n",
       "  </thead>\n",
       "  <tbody>\n",
       "    <tr>\n",
       "      <th>0</th>\n",
       "      <td>1</td>\n",
       "      <td>9</td>\n",
       "    </tr>\n",
       "    <tr>\n",
       "      <th>1</th>\n",
       "      <td>9</td>\n",
       "      <td>2</td>\n",
       "    </tr>\n",
       "    <tr>\n",
       "      <th>2</th>\n",
       "      <td>11</td>\n",
       "      <td>2</td>\n",
       "    </tr>\n",
       "    <tr>\n",
       "      <th>3</th>\n",
       "      <td>13</td>\n",
       "      <td>8</td>\n",
       "    </tr>\n",
       "    <tr>\n",
       "      <th>4</th>\n",
       "      <td>21</td>\n",
       "      <td>2</td>\n",
       "    </tr>\n",
       "    <tr>\n",
       "      <th>...</th>\n",
       "      <td>...</td>\n",
       "      <td>...</td>\n",
       "    </tr>\n",
       "    <tr>\n",
       "      <th>794</th>\n",
       "      <td>1097</td>\n",
       "      <td>1</td>\n",
       "    </tr>\n",
       "    <tr>\n",
       "      <th>795</th>\n",
       "      <td>1098</td>\n",
       "      <td>1</td>\n",
       "    </tr>\n",
       "    <tr>\n",
       "      <th>796</th>\n",
       "      <td>1099</td>\n",
       "      <td>1</td>\n",
       "    </tr>\n",
       "    <tr>\n",
       "      <th>797</th>\n",
       "      <td>1100</td>\n",
       "      <td>1</td>\n",
       "    </tr>\n",
       "    <tr>\n",
       "      <th>798</th>\n",
       "      <td>1101</td>\n",
       "      <td>1</td>\n",
       "    </tr>\n",
       "  </tbody>\n",
       "</table>\n",
       "<p>799 rows × 2 columns</p>\n",
       "</div>"
      ],
      "text/plain": [
       "    BK_ID  Number_of_Copies\n",
       "0       1                 9\n",
       "1       9                 2\n",
       "2      11                 2\n",
       "3      13                 8\n",
       "4      21                 2\n",
       "..    ...               ...\n",
       "794  1097                 1\n",
       "795  1098                 1\n",
       "796  1099                 1\n",
       "797  1100                 1\n",
       "798  1101                 1\n",
       "\n",
       "[799 rows x 2 columns]"
      ]
     },
     "execution_count": 5,
     "metadata": {},
     "output_type": "execute_result"
    }
   ],
   "source": [
    "pd.read_sql(\"SELECT * FROM BookInventory;\",con)"
   ]
  },
  {
   "cell_type": "code",
   "execution_count": 4,
   "metadata": {},
   "outputs": [
    {
     "data": {
      "text/plain": [
       "<sqlite3.Cursor at 0x294ffb1dc40>"
      ]
     },
     "execution_count": 4,
     "metadata": {},
     "output_type": "execute_result"
    }
   ],
   "source": [
    "con.execute(\"UPDATE BookDetails SET BK_STATUS= 'Available' \")"
   ]
  },
  {
   "cell_type": "code",
   "execution_count": 7,
   "metadata": {},
   "outputs": [],
   "source": [
    "con.close()"
   ]
  }
 ],
 "metadata": {
  "kernelspec": {
   "display_name": "Python 3",
   "language": "python",
   "name": "python3"
  },
  "language_info": {
   "codemirror_mode": {
    "name": "ipython",
    "version": 3
   },
   "file_extension": ".py",
   "mimetype": "text/x-python",
   "name": "python",
   "nbconvert_exporter": "python",
   "pygments_lexer": "ipython3",
   "version": "3.11.0"
  }
 },
 "nbformat": 4,
 "nbformat_minor": 2
}
