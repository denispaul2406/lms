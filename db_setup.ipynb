{
 "cells": [
  {
   "cell_type": "code",
   "execution_count": 1,
   "metadata": {},
   "outputs": [],
   "source": [
    "import sqlite3\n",
    "import pandas as pd\n",
    "import csv"
   ]
  },
  {
   "cell_type": "code",
   "execution_count": 3,
   "metadata": {},
   "outputs": [],
   "source": [
    "# Connect to SQLite database (create if not exists)\n",
    "conn = sqlite3.connect('library11.db')\n",
    "cursor = conn.cursor()"
   ]
  },
  {
   "cell_type": "code",
   "execution_count": null,
   "metadata": {},
   "outputs": [],
   "source": [
    "\n",
    "# Drop existing tables if they exist\n",
    "cursor.execute(\"DROP TABLE IF EXISTS BookInventory\")\n",
    "cursor.execute(\"DROP TABLE IF EXISTS Transactions\")\n",
    "cursor.execute(\"DROP TABLE IF EXISTS BookDetails\")\n",
    "cursor.execute(\"DROP TABLE IF EXISTS Books\")\n"
   ]
  },
  {
   "cell_type": "code",
   "execution_count": null,
   "metadata": {},
   "outputs": [],
   "source": [
    "# Create Books table with merged fields for category, department, and subject\n",
    "cursor.execute('''\n",
    "    CREATE TABLE IF NOT EXISTS Books (\n",
    "        BK_ID TEXT PRIMARY KEY NOT NULL,\n",
    "        BK_NAME TEXT,\n",
    "        AUTHOR_NAME TEXT,\n",
    "        Edition TEXT,\n",
    "        Date_Year TEXT,\n",
    "        Publisher TEXT,\n",
    "        Place TEXT,\n",
    "        ISBN TEXT,\n",
    "        Price TEXT,\n",
    "        Pages TEXT,\n",
    "        Category TEXT,\n",
    "        Department TEXT,\n",
    "        Subject TEXT\n",
    "    )\n",
    "''')"
   ]
  },
  {
   "cell_type": "code",
   "execution_count": null,
   "metadata": {},
   "outputs": [],
   "source": [
    "# Create BookInventory table\n",
    "cursor.execute('''\n",
    "    CREATE TABLE IF NOT EXISTS BookInventory (\n",
    "        BK_ID TEXT PRIMARY KEY NOT NULL,\n",
    "        Number_of_Copies INTEGER,\n",
    "        FOREIGN KEY (BK_ID) REFERENCES Books(BK_ID)\n",
    "    )\n",
    "''')\n"
   ]
  },
  {
   "cell_type": "code",
   "execution_count": null,
   "metadata": {},
   "outputs": [],
   "source": [
    "\n",
    "# Create BookInventory table\n",
    "cursor.execute('''\n",
    "    CREATE TABLE IF NOT EXISTS BookInventory (\n",
    "        BK_ID TEXT PRIMARY KEY NOT NULL,\n",
    "        Number_of_Copies INTEGER,\n",
    "        FOREIGN KEY (BK_ID) REFERENCES Books(BK_ID)\n",
    "    )\n",
    "''')"
   ]
  },
  {
   "cell_type": "code",
   "execution_count": null,
   "metadata": {},
   "outputs": [],
   "source": [
    "# Create BookDetails table\n",
    "cursor.execute('''\n",
    "    CREATE TABLE IF NOT EXISTS BookDetails (\n",
    "        Asset_Code TEXT,\n",
    "        Call_No TEXT,\n",
    "        BK_ID TEXT NOT NULL,\n",
    "        BK_STATUS TEXT,\n",
    "        FOREIGN KEY (BK_ID) REFERENCES Books(BK_ID)\n",
    "    )\n",
    "''')"
   ]
  },
  {
   "cell_type": "code",
   "execution_count": null,
   "metadata": {},
   "outputs": [],
   "source": [
    "# Create Transactions table\n",
    "cursor.execute('''\n",
    "    CREATE TABLE IF NOT EXISTS Transactions (\n",
    "        Transaction_ID INTEGER PRIMARY KEY AUTOINCREMENT,\n",
    "        BK_ID TEXT,\n",
    "        CARD_ID TEXT,\n",
    "        Bill_Date TEXT,\n",
    "        Vendor TEXT,\n",
    "        FOREIGN KEY (BK_ID) REFERENCES Books(BK_ID)\n",
    "    )\n",
    "''')\n"
   ]
  },
  {
   "cell_type": "code",
   "execution_count": null,
   "metadata": {},
   "outputs": [],
   "source": [
    "# Create VIEW Library\n",
    "cursor.execute('''\n",
    "    CREATE VIEW IF NOT EXISTS Library AS\n",
    "    SELECT\n",
    "        Books.BK_NAME AS book_name,\n",
    "        Books.BK_ID AS book_id,\n",
    "        Books.AUTHOR_NAME AS author_name,\n",
    "        BookDetails.BK_STATUS AS book_status,\n",
    "        Transactions.CARD_ID AS card_id,\n",
    "        Books.Category AS category,\n",
    "        BookDetails.Asset_Code AS asset_code,\n",
    "        Books.Department AS department,\n",
    "        Books.Subject AS subject,\n",
    "        Books.Edition AS edition,\n",
    "        Books.Date_Year AS date_year,\n",
    "        BookDetails.Call_No AS call_no, \n",
    "        Books.Publisher AS publisher,\n",
    "        Books.Place AS place,\n",
    "        Books.ISBN AS isbn,\n",
    "        Books.Price AS price,\n",
    "        Transactions.Bill_Date AS bill_date,\n",
    "        Transactions.Vendor AS vendor,\n",
    "        Books.Pages AS pages,\n",
    "        BookInventory.Number_of_Copies AS num_copies\n",
    "    FROM\n",
    "        Books\n",
    "    LEFT JOIN BookDetails ON Books.BK_ID = BookDetails.BK_ID\n",
    "    LEFT JOIN Transactions ON Books.BK_ID = Transactions.BK_ID\n",
    "    LEFT JOIN BookInventory ON Books.BK_ID = BookInventory.BK_ID\n",
    "''')\n"
   ]
  },
  {
   "cell_type": "code",
   "execution_count": null,
   "metadata": {},
   "outputs": [],
   "source": [
    "conn.commit()"
   ]
  },
  {
   "cell_type": "code",
   "execution_count": null,
   "metadata": {},
   "outputs": [],
   "source": [
    "# Function to insert data into Books table\n",
    "def insert_books_data(row):\n",
    "    cursor.execute('''\n",
    "            INSERT INTO Books (BK_ID, BK_NAME, AUTHOR_NAME, Edition, Date_Year, Publisher, Place, ISBN, Price, Pages, Category, Department, Subject) VALUES (?, ?, ?, ?, ?, ?, ?, ?, ?, ?, ?, ?, ?)\n",
    "    ''', (row['Access_No'], row['Title'], row['Authors'], row['Edition'], row['Date_Year'],\n",
    "          row['Publisher'], row['Place'], row['ISBN'], row['Price'], row['Pages'],row['Category'],row['Department'],row['Subject']))\n"
   ]
  },
  {
   "cell_type": "code",
   "execution_count": null,
   "metadata": {},
   "outputs": [],
   "source": [
    "\n",
    "# Function to insert data into BookDetails table\n",
    "def insert_book_details_data(row):\n",
    "    cursor.execute('''\n",
    "        INSERT INTO BookDetails (Asset_Code, Call_No, BK_ID)\n",
    "        VALUES (?, ?, ?)\n",
    "    ''', (row['Asset_Code'], row['Call_No'], row['Access_No']))"
   ]
  },
  {
   "cell_type": "code",
   "execution_count": null,
   "metadata": {},
   "outputs": [],
   "source": [
    "# Function to insert data into BookInventory table\n",
    "def insert_book_inventory_data(row):\n",
    "    cursor.execute('''\n",
    "        INSERT INTO BookInventory (BK_ID, Number_of_Copies)\n",
    "        VALUES (?, ?)\n",
    "    ''', (row['Access_No'], row['copies']))"
   ]
  },
  {
   "cell_type": "code",
   "execution_count": null,
   "metadata": {},
   "outputs": [],
   "source": [
    "# Function to insert data into Transactions table\n",
    "def insert_transactions_data(row):\n",
    "    cursor.execute('''\n",
    "        INSERT INTO Transactions (BK_ID, Bill_Date, Vendor)\n",
    "        VALUES (?, ?, ?)\n",
    "    ''', (row['Access_No'], row['Bill_Date'], row['Vendor']))"
   ]
  },
  {
   "cell_type": "code",
   "execution_count": null,
   "metadata": {},
   "outputs": [],
   "source": [
    "#Function to processing the data and call insertion functions\n",
    "def process_csv_data():\n",
    "    with open('C:/Users/Hunny/Downloads/updated_file.csv', newline='', encoding='latin-1') as csvfile:\n",
    "        reader = csv.DictReader(csvfile)\n",
    "        for row in reader:\n",
    "            # Insert data into respective tables\n",
    "            insert_books_data(row)\n",
    "            insert_book_details_data(row)\n",
    "            insert_book_inventory_data(row)\n",
    "            insert_transactions_data(row)\n",
    "            # Add other table insertions if necessary\n",
    "\n",
    "    conn.commit()\n",
    "    print(\"Data inserted successfully.\")"
   ]
  },
  {
   "cell_type": "code",
   "execution_count": null,
   "metadata": {},
   "outputs": [],
   "source": [
    "#call function to process data and insert into tables\n",
    "process_csv_data()"
   ]
  },
  {
   "cell_type": "code",
   "execution_count": 4,
   "metadata": {},
   "outputs": [
    {
     "data": {
      "text/plain": [
       "<sqlite3.Cursor at 0x1bd60d393c0>"
      ]
     },
     "execution_count": 4,
     "metadata": {},
     "output_type": "execute_result"
    }
   ],
   "source": [
    "#updating number of copies to one by default\n",
    "cursor.execute(\"UPDATE BookInventory SET Number_of_Copies = 1 WHERE Number_of_Copies IS NULL OR Number_of_Copies NOT BETWEEN 2 AND 100;\")"
   ]
  },
  {
   "cell_type": "code",
   "execution_count": 12,
   "metadata": {},
   "outputs": [
    {
     "data": {
      "text/plain": [
       "<sqlite3.Cursor at 0x1bd6232b0c0>"
      ]
     },
     "execution_count": 12,
     "metadata": {},
     "output_type": "execute_result"
    }
   ],
   "source": [
    "#trigger to prevent negative copies of books\n",
    "cursor.execute(\"\"\"CREATE TRIGGER prevent_negative_copies\n",
    "BEFORE UPDATE ON BookInventory\n",
    "FOR EACH ROW\n",
    "WHEN NEW.Number_of_Copies < 0\n",
    "BEGIN\n",
    "    SELECT RAISE(ABORT, 'Cannot set Number_of_Copies below 0');\n",
    "END;\n",
    "\"\"\")"
   ]
  },
  {
   "cell_type": "code",
   "execution_count": 4,
   "metadata": {},
   "outputs": [
    {
     "data": {
      "text/plain": [
       "<sqlite3.Cursor at 0x23bd98949c0>"
      ]
     },
     "execution_count": 4,
     "metadata": {},
     "output_type": "execute_result"
    }
   ],
   "source": [
    "#for updating  number of copies on issueing\n",
    "cursor.execute(\"\"\" \n",
    "            CREATE TRIGGER update_copies_on_issue\n",
    "AFTER UPDATE ON Transactions\n",
    "FOR EACH ROW\n",
    "WHEN NEW.CARD_ID <> 'N/A' AND OLD.CARD_ID = 'N/A'\n",
    "BEGIN\n",
    "    UPDATE BookInventory\n",
    "    SET Number_of_Copies = Number_of_Copies - 1\n",
    "    WHERE BK_ID = NEW.BK_ID;\n",
    "END;\n",
    "\"\"\")"
   ]
  },
  {
   "cell_type": "code",
   "execution_count": 5,
   "metadata": {},
   "outputs": [
    {
     "data": {
      "text/plain": [
       "<sqlite3.Cursor at 0x23bd9894540>"
      ]
     },
     "execution_count": 5,
     "metadata": {},
     "output_type": "execute_result"
    }
   ],
   "source": [
    "#for updating number of copies on returning\n",
    "cursor.execute(\"\"\" \n",
    "CREATE TRIGGER update_copies_on_return\n",
    "AFTER UPDATE ON Transactions\n",
    "FOR EACH ROW\n",
    "WHEN NEW.CARD_ID = 'N/A' AND OLD.CARD_ID <> 'N/A'\n",
    "BEGIN\n",
    "    UPDATE BookInventory\n",
    "    SET Number_of_Copies = Number_of_Copies + 1\n",
    "    WHERE BK_ID = NEW.BK_ID;\n",
    "END;            \n",
    "\"\"\")"
   ]
  },
  {
   "cell_type": "code",
   "execution_count": 5,
   "metadata": {},
   "outputs": [],
   "source": [
    "conn.commit()"
   ]
  },
  {
   "cell_type": "code",
   "execution_count": 4,
   "metadata": {},
   "outputs": [
    {
     "data": {
      "text/plain": [
       "<sqlite3.Cursor at 0x294ffb1dc40>"
      ]
     },
     "execution_count": 4,
     "metadata": {},
     "output_type": "execute_result"
    }
   ],
   "source": [
    "\n",
    "#Setting book status available by default\n",
    "cursor.execute(\"UPDATE BookDetails SET BK_STATUS= 'Available' \")"
   ]
  },
  {
   "cell_type": "code",
   "execution_count": 4,
   "metadata": {},
   "outputs": [
    {
     "data": {
      "text/plain": [
       "<sqlite3.Cursor at 0x1d5a33747c0>"
      ]
     },
     "execution_count": 4,
     "metadata": {},
     "output_type": "execute_result"
    }
   ],
   "source": [
    "#setting number of copies 1 by default\n",
    "cursor.execute(\"UPDATE BookInventory SET Number_of_Copies = 1 \")"
   ]
  },
  {
   "cell_type": "code",
   "execution_count": null,
   "metadata": {},
   "outputs": [],
   "source": [
    "#setting card id N/A by default\n",
    "cursor.execute(\"UPDATE Transcations SET CARD_ID = 'N/A' \")"
   ]
  },
  {
   "cell_type": "code",
   "execution_count": null,
   "metadata": {},
   "outputs": [],
   "source": [
    "conn.commit()"
   ]
  },
  {
   "cell_type": "code",
   "execution_count": 4,
   "metadata": {},
   "outputs": [
    {
     "data": {
      "text/html": [
       "<div>\n",
       "<style scoped>\n",
       "    .dataframe tbody tr th:only-of-type {\n",
       "        vertical-align: middle;\n",
       "    }\n",
       "\n",
       "    .dataframe tbody tr th {\n",
       "        vertical-align: top;\n",
       "    }\n",
       "\n",
       "    .dataframe thead th {\n",
       "        text-align: right;\n",
       "    }\n",
       "</style>\n",
       "<table border=\"1\" class=\"dataframe\">\n",
       "  <thead>\n",
       "    <tr style=\"text-align: right;\">\n",
       "      <th></th>\n",
       "      <th>book_name</th>\n",
       "      <th>book_id</th>\n",
       "      <th>author_name</th>\n",
       "      <th>book_status</th>\n",
       "      <th>card_id</th>\n",
       "      <th>category</th>\n",
       "      <th>asset_code</th>\n",
       "      <th>department</th>\n",
       "      <th>subject</th>\n",
       "      <th>edition</th>\n",
       "      <th>date_year</th>\n",
       "      <th>call_no</th>\n",
       "      <th>publisher</th>\n",
       "      <th>place</th>\n",
       "      <th>isbn</th>\n",
       "      <th>price</th>\n",
       "      <th>bill_date</th>\n",
       "      <th>vendor</th>\n",
       "      <th>pages</th>\n",
       "      <th>num_copies</th>\n",
       "    </tr>\n",
       "  </thead>\n",
       "  <tbody>\n",
       "    <tr>\n",
       "      <th>0</th>\n",
       "      <td>Principles of economics</td>\n",
       "      <td>1</td>\n",
       "      <td>Gregory, Mankiw N.</td>\n",
       "      <td>Available</td>\n",
       "      <td>N/A</td>\n",
       "      <td>Books</td>\n",
       "      <td>RVUN21LB0001</td>\n",
       "      <td>School of Economics</td>\n",
       "      <td>Economics</td>\n",
       "      <td>7th Ed</td>\n",
       "      <td>2015</td>\n",
       "      <td>330 GRE</td>\n",
       "      <td>Cengage learning india pvt. ltd</td>\n",
       "      <td>New Delhi</td>\n",
       "      <td>978-9386668035</td>\n",
       "      <td>899.0</td>\n",
       "      <td>10/25/2021 0:00</td>\n",
       "      <td>Book Paradise</td>\n",
       "      <td>xxxii, 847</td>\n",
       "      <td>8</td>\n",
       "    </tr>\n",
       "    <tr>\n",
       "      <th>1</th>\n",
       "      <td>Microeconomics in context</td>\n",
       "      <td>9</td>\n",
       "      <td>Goodwin, Neva R.</td>\n",
       "      <td>None</td>\n",
       "      <td>None</td>\n",
       "      <td>Books</td>\n",
       "      <td>RVUN21LB0009</td>\n",
       "      <td>School of Economics</td>\n",
       "      <td>Economics</td>\n",
       "      <td>2nd Ed</td>\n",
       "      <td>2008</td>\n",
       "      <td>339 GOO</td>\n",
       "      <td>PHI Learning Private Limited</td>\n",
       "      <td>New Delhi</td>\n",
       "      <td>9788120337473</td>\n",
       "      <td>350.0</td>\n",
       "      <td>10/29/2021 0:00</td>\n",
       "      <td>Book Paradise</td>\n",
       "      <td>xxxiii,522</td>\n",
       "      <td>2</td>\n",
       "    </tr>\n",
       "    <tr>\n",
       "      <th>2</th>\n",
       "      <td>Macroeconomics in context</td>\n",
       "      <td>11</td>\n",
       "      <td>Goodwin, Neva R.</td>\n",
       "      <td>Issued</td>\n",
       "      <td>None</td>\n",
       "      <td>Books</td>\n",
       "      <td>RVUN21LB0011</td>\n",
       "      <td>School of Economics</td>\n",
       "      <td>Economics</td>\n",
       "      <td>2nd Ed</td>\n",
       "      <td>2014</td>\n",
       "      <td>339 GOO</td>\n",
       "      <td>Routledge</td>\n",
       "      <td>New York</td>\n",
       "      <td>9781315702735</td>\n",
       "      <td>3295.0</td>\n",
       "      <td>10/29/2021 0:00</td>\n",
       "      <td>Book Paradise</td>\n",
       "      <td>xxiv, 688</td>\n",
       "      <td>2</td>\n",
       "    </tr>\n",
       "    <tr>\n",
       "      <th>3</th>\n",
       "      <td>Economic development</td>\n",
       "      <td>13</td>\n",
       "      <td>Michael, Todaro.</td>\n",
       "      <td>None</td>\n",
       "      <td>None</td>\n",
       "      <td>Books</td>\n",
       "      <td>RVUN21LB0013</td>\n",
       "      <td>School of Economics</td>\n",
       "      <td>Economics</td>\n",
       "      <td>12th Ed</td>\n",
       "      <td>2017</td>\n",
       "      <td>338.90091724 TOD</td>\n",
       "      <td>Pearson Education</td>\n",
       "      <td>Noida</td>\n",
       "      <td>978-9332585539</td>\n",
       "      <td>749.0</td>\n",
       "      <td>10/29/2021 0:00</td>\n",
       "      <td>Book Paradise</td>\n",
       "      <td>xxvii,860</td>\n",
       "      <td>8</td>\n",
       "    </tr>\n",
       "    <tr>\n",
       "      <th>4</th>\n",
       "      <td>International economics</td>\n",
       "      <td>21</td>\n",
       "      <td>Appleyard, Dennis R.</td>\n",
       "      <td>None</td>\n",
       "      <td>None</td>\n",
       "      <td>Books</td>\n",
       "      <td>RVUN21LB0021</td>\n",
       "      <td>School of Economics</td>\n",
       "      <td>Economics</td>\n",
       "      <td>8th Ed</td>\n",
       "      <td>2013</td>\n",
       "      <td>337 APP</td>\n",
       "      <td>Mcgrawhill</td>\n",
       "      <td>Chennai</td>\n",
       "      <td>9781259097423</td>\n",
       "      <td>925.0</td>\n",
       "      <td>10/29/2021 0:00</td>\n",
       "      <td>Book Paradise</td>\n",
       "      <td>xxiv,824</td>\n",
       "      <td>2</td>\n",
       "    </tr>\n",
       "  </tbody>\n",
       "</table>\n",
       "</div>"
      ],
      "text/plain": [
       "                   book_name book_id           author_name book_status  \\\n",
       "0    Principles of economics       1    Gregory, Mankiw N.   Available   \n",
       "1  Microeconomics in context       9      Goodwin, Neva R.        None   \n",
       "2  Macroeconomics in context      11      Goodwin, Neva R.      Issued   \n",
       "3       Economic development      13      Michael, Todaro.        None   \n",
       "4    International economics      21  Appleyard, Dennis R.        None   \n",
       "\n",
       "  card_id category    asset_code           department    subject  edition  \\\n",
       "0     N/A    Books  RVUN21LB0001  School of Economics  Economics   7th Ed   \n",
       "1    None    Books  RVUN21LB0009  School of Economics  Economics   2nd Ed   \n",
       "2    None    Books  RVUN21LB0011  School of Economics  Economics   2nd Ed   \n",
       "3    None    Books  RVUN21LB0013  School of Economics  Economics  12th Ed   \n",
       "4    None    Books  RVUN21LB0021  School of Economics  Economics   8th Ed   \n",
       "\n",
       "  date_year           call_no                        publisher      place  \\\n",
       "0      2015           330 GRE  Cengage learning india pvt. ltd  New Delhi   \n",
       "1      2008           339 GOO     PHI Learning Private Limited  New Delhi   \n",
       "2      2014           339 GOO                        Routledge   New York   \n",
       "3      2017  338.90091724 TOD                Pearson Education      Noida   \n",
       "4      2013           337 APP                       Mcgrawhill    Chennai   \n",
       "\n",
       "             isbn   price        bill_date         vendor       pages  \\\n",
       "0  978-9386668035   899.0  10/25/2021 0:00  Book Paradise  xxxii, 847   \n",
       "1   9788120337473   350.0  10/29/2021 0:00  Book Paradise  xxxiii,522   \n",
       "2   9781315702735  3295.0  10/29/2021 0:00  Book Paradise   xxiv, 688   \n",
       "3  978-9332585539   749.0  10/29/2021 0:00  Book Paradise   xxvii,860   \n",
       "4   9781259097423   925.0  10/29/2021 0:00  Book Paradise    xxiv,824   \n",
       "\n",
       "   num_copies  \n",
       "0           8  \n",
       "1           2  \n",
       "2           2  \n",
       "3           8  \n",
       "4           2  "
      ]
     },
     "execution_count": 4,
     "metadata": {},
     "output_type": "execute_result"
    }
   ],
   "source": [
    "pd.read_sql(\"SELECT * FROM Library;\",conn).head()"
   ]
  },
  {
   "cell_type": "code",
   "execution_count": 6,
   "metadata": {},
   "outputs": [],
   "source": [
    "conn.close()"
   ]
  }
 ],
 "metadata": {
  "kernelspec": {
   "display_name": "Python 3",
   "language": "python",
   "name": "python3"
  },
  "language_info": {
   "codemirror_mode": {
    "name": "ipython",
    "version": 3
   },
   "file_extension": ".py",
   "mimetype": "text/x-python",
   "name": "python",
   "nbconvert_exporter": "python",
   "pygments_lexer": "ipython3",
   "version": "3.11.0"
  }
 },
 "nbformat": 4,
 "nbformat_minor": 2
}
